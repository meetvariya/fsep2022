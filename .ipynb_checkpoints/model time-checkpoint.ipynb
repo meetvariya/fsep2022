{
 "cells": [
  {
   "cell_type": "code",
   "execution_count": 1,
   "id": "241541aa",
   "metadata": {
    "scrolled": true
   },
   "outputs": [
    {
     "name": "stderr",
     "output_type": "stream",
     "text": [
      "e:\\kaggle-road-accidents-analysis-and-prediction-master\\.virtenv\\lib\\site-packages\\sklearn\\externals\\joblib\\externals\\cloudpickle\\cloudpickle.py:47: DeprecationWarning: the imp module is deprecated in favour of importlib; see the module's documentation for alternative uses\n",
      "  import imp\n",
      "e:\\kaggle-road-accidents-analysis-and-prediction-master\\.virtenv\\lib\\site-packages\\sklearn\\linear_model\\least_angle.py:35: DeprecationWarning: `np.float` is a deprecated alias for the builtin `float`. To silence this warning, use `float` by itself. Doing this will not modify any behavior and is safe. If you specifically wanted the numpy scalar type, use `np.float64` here.\n",
      "Deprecated in NumPy 1.20; for more details and guidance: https://numpy.org/devdocs/release/1.20.0-notes.html#deprecations\n",
      "  eps=np.finfo(np.float).eps,\n",
      "e:\\kaggle-road-accidents-analysis-and-prediction-master\\.virtenv\\lib\\site-packages\\sklearn\\linear_model\\least_angle.py:597: DeprecationWarning: `np.float` is a deprecated alias for the builtin `float`. To silence this warning, use `float` by itself. Doing this will not modify any behavior and is safe. If you specifically wanted the numpy scalar type, use `np.float64` here.\n",
      "Deprecated in NumPy 1.20; for more details and guidance: https://numpy.org/devdocs/release/1.20.0-notes.html#deprecations\n",
      "  eps=np.finfo(np.float).eps, copy_X=True, fit_path=True,\n",
      "e:\\kaggle-road-accidents-analysis-and-prediction-master\\.virtenv\\lib\\site-packages\\sklearn\\linear_model\\least_angle.py:836: DeprecationWarning: `np.float` is a deprecated alias for the builtin `float`. To silence this warning, use `float` by itself. Doing this will not modify any behavior and is safe. If you specifically wanted the numpy scalar type, use `np.float64` here.\n",
      "Deprecated in NumPy 1.20; for more details and guidance: https://numpy.org/devdocs/release/1.20.0-notes.html#deprecations\n",
      "  eps=np.finfo(np.float).eps, copy_X=True, fit_path=True,\n",
      "e:\\kaggle-road-accidents-analysis-and-prediction-master\\.virtenv\\lib\\site-packages\\sklearn\\linear_model\\least_angle.py:862: DeprecationWarning: `np.float` is a deprecated alias for the builtin `float`. To silence this warning, use `float` by itself. Doing this will not modify any behavior and is safe. If you specifically wanted the numpy scalar type, use `np.float64` here.\n",
      "Deprecated in NumPy 1.20; for more details and guidance: https://numpy.org/devdocs/release/1.20.0-notes.html#deprecations\n",
      "  eps=np.finfo(np.float).eps, positive=False):\n",
      "e:\\kaggle-road-accidents-analysis-and-prediction-master\\.virtenv\\lib\\site-packages\\sklearn\\linear_model\\least_angle.py:1095: DeprecationWarning: `np.float` is a deprecated alias for the builtin `float`. To silence this warning, use `float` by itself. Doing this will not modify any behavior and is safe. If you specifically wanted the numpy scalar type, use `np.float64` here.\n",
      "Deprecated in NumPy 1.20; for more details and guidance: https://numpy.org/devdocs/release/1.20.0-notes.html#deprecations\n",
      "  max_n_alphas=1000, n_jobs=None, eps=np.finfo(np.float).eps,\n",
      "e:\\kaggle-road-accidents-analysis-and-prediction-master\\.virtenv\\lib\\site-packages\\sklearn\\linear_model\\least_angle.py:1340: DeprecationWarning: `np.float` is a deprecated alias for the builtin `float`. To silence this warning, use `float` by itself. Doing this will not modify any behavior and is safe. If you specifically wanted the numpy scalar type, use `np.float64` here.\n",
      "Deprecated in NumPy 1.20; for more details and guidance: https://numpy.org/devdocs/release/1.20.0-notes.html#deprecations\n",
      "  max_n_alphas=1000, n_jobs=None, eps=np.finfo(np.float).eps,\n",
      "e:\\kaggle-road-accidents-analysis-and-prediction-master\\.virtenv\\lib\\site-packages\\sklearn\\linear_model\\least_angle.py:1476: DeprecationWarning: `np.float` is a deprecated alias for the builtin `float`. To silence this warning, use `float` by itself. Doing this will not modify any behavior and is safe. If you specifically wanted the numpy scalar type, use `np.float64` here.\n",
      "Deprecated in NumPy 1.20; for more details and guidance: https://numpy.org/devdocs/release/1.20.0-notes.html#deprecations\n",
      "  eps=np.finfo(np.float).eps, copy_X=True, positive=False):\n",
      "e:\\kaggle-road-accidents-analysis-and-prediction-master\\.virtenv\\lib\\site-packages\\sklearn\\linear_model\\randomized_l1.py:152: DeprecationWarning: `np.float` is a deprecated alias for the builtin `float`. To silence this warning, use `float` by itself. Doing this will not modify any behavior and is safe. If you specifically wanted the numpy scalar type, use `np.float64` here.\n",
      "Deprecated in NumPy 1.20; for more details and guidance: https://numpy.org/devdocs/release/1.20.0-notes.html#deprecations\n",
      "  precompute=False, eps=np.finfo(np.float).eps,\n",
      "e:\\kaggle-road-accidents-analysis-and-prediction-master\\.virtenv\\lib\\site-packages\\sklearn\\linear_model\\randomized_l1.py:320: DeprecationWarning: `np.float` is a deprecated alias for the builtin `float`. To silence this warning, use `float` by itself. Doing this will not modify any behavior and is safe. If you specifically wanted the numpy scalar type, use `np.float64` here.\n",
      "Deprecated in NumPy 1.20; for more details and guidance: https://numpy.org/devdocs/release/1.20.0-notes.html#deprecations\n",
      "  eps=np.finfo(np.float).eps, random_state=None,\n",
      "e:\\kaggle-road-accidents-analysis-and-prediction-master\\.virtenv\\lib\\site-packages\\sklearn\\linear_model\\randomized_l1.py:580: DeprecationWarning: `np.float` is a deprecated alias for the builtin `float`. To silence this warning, use `float` by itself. Doing this will not modify any behavior and is safe. If you specifically wanted the numpy scalar type, use `np.float64` here.\n",
      "Deprecated in NumPy 1.20; for more details and guidance: https://numpy.org/devdocs/release/1.20.0-notes.html#deprecations\n",
      "  eps=4 * np.finfo(np.float).eps, n_jobs=None,\n"
     ]
    }
   ],
   "source": [
    "import pandas as pd\n",
    "import numpy as np\n",
    "from sklearn.linear_model import LinearRegression\n",
    "from sklearn.model_selection import train_test_split\n",
    "from sklearn.preprocessing import LabelEncoder,OneHotEncoder\n",
    "from IPython.display import display\n"
   ]
  },
  {
   "cell_type": "code",
   "execution_count": 2,
   "id": "68ab60c0",
   "metadata": {},
   "outputs": [],
   "source": [
    "new_data=pd.read_csv('time_prepared_data.csv')\n",
    "data = pd.read_csv('old_time_data.csv')\n",
    "e= []\n",
    "cnt2 = 0\n",
    "for year in data['YEAR'].unique():\n",
    "    for i in data.index:\n",
    "        if data.loc[i,'YEAR'] == year:\n",
    "            cnt2 = cnt2 + data.loc[i,'Total'] \n",
    "    year_acc = (year,cnt2)\n",
    "    cnt2=0\n",
    "    e.append(year_acc)"
   ]
  },
  {
   "cell_type": "code",
   "execution_count": 3,
   "id": "f81a1f33",
   "metadata": {},
   "outputs": [],
   "source": [
    "model = LinearRegression()\n",
    "X_data = np.array([t[0] for t in e])\n",
    "Y_data = np.array([y[1] for y in e])\n",
    "model.fit(X_data.reshape(len(X_data),1),Y_data.reshape(len(Y_data),1))\n",
    "\n",
    "data = pd.read_csv('time_prepared_data.csv')\n",
    "data =data.drop('Unnamed: 0',axis=1)\n",
    "le1 = LabelEncoder()\n",
    "le2 = LabelEncoder()"
   ]
  },
  {
   "cell_type": "code",
   "execution_count": 4,
   "id": "efc3b224",
   "metadata": {},
   "outputs": [],
   "source": [
    "        \n",
    "for i in data.index:\n",
    "    if data.loc[i,'TIME']== '0-3 hrs. (Night)':\n",
    "         data.loc[i,'TIME'] = 0\n",
    "    elif data.loc[i,'TIME']== '3-6 hrs. (Night)':\n",
    "         data.loc[i,'TIME'] = 1\n",
    "    elif data.loc[i,'TIME']== '6-9 hrs (Day)':\n",
    "         data.loc[i,'TIME'] = 2\n",
    "    elif data.loc[i,'TIME']== '9-12 hrs (Day)':\n",
    "         data.loc[i,'TIME'] = 3\n",
    "    elif data.loc[i,'TIME']== '12-15 hrs (Day)':\n",
    "         data.loc[i,'TIME'] = 4\n",
    "    elif data.loc[i,'TIME']== '15-18 hrs (Day)':\n",
    "         data.loc[i,'TIME'] = 5\n",
    "    elif data.loc[i,'TIME']== '18-21 hrs (Night)':\n",
    "         data.loc[i,'TIME'] = 6\n",
    "    elif data.loc[i,'TIME']== '21-24 hrs (Night)':\n",
    "         data.loc[i,'TIME'] = 7\n",
    "        \n",
    "data['STATE/UT']=le1.fit_transform(data['STATE/UT'])\n",
    "data['TIME']=le2.fit_transform(data['TIME'])\n",
    "\n",
    "\n",
    "ohe = OneHotEncoder(categorical_features=[0])\n",
    "data_matrix_x= data[['STATE/UT','YEAR','TIME']].values\n",
    "data_matrix_y = data.ACCIDENTS\n"
   ]
  },
  {
   "cell_type": "code",
   "execution_count": 5,
   "id": "953c6a9f",
   "metadata": {},
   "outputs": [
    {
     "name": "stderr",
     "output_type": "stream",
     "text": [
      "e:\\kaggle-road-accidents-analysis-and-prediction-master\\.virtenv\\lib\\site-packages\\sklearn\\preprocessing\\_encoders.py:346: DeprecationWarning: `np.int` is a deprecated alias for the builtin `int`. To silence this warning, use `int` by itself. Doing this will not modify any behavior and is safe. When replacing `np.int`, you may wish to use e.g. `np.int64` or `np.int32` to specify the precision. If you wish to review your current use, check the release note link for additional information.\n",
      "Deprecated in NumPy 1.20; for more details and guidance: https://numpy.org/devdocs/release/1.20.0-notes.html#deprecations\n",
      "  X = check_array(X, dtype=np.int)\n",
      "e:\\kaggle-road-accidents-analysis-and-prediction-master\\.virtenv\\lib\\site-packages\\sklearn\\preprocessing\\_encoders.py:363: FutureWarning: The handling of integer data will change in version 0.22. Currently, the categories are determined based on the range [0, max(values)], while in the future they will be determined based on the unique values.\n",
      "If you want the future behaviour and silence this warning, you can specify \"categories='auto'\".\n",
      "In case you used a LabelEncoder before this OneHotEncoder to convert the categories to integers, then you can now use the OneHotEncoder directly.\n",
      "  warnings.warn(msg, FutureWarning)\n",
      "e:\\kaggle-road-accidents-analysis-and-prediction-master\\.virtenv\\lib\\site-packages\\sklearn\\preprocessing\\_encoders.py:385: DeprecationWarning: The 'categorical_features' keyword is deprecated in version 0.20 and will be removed in 0.22. You can use the ColumnTransformer instead.\n",
      "  \"use the ColumnTransformer instead.\", DeprecationWarning)\n",
      "e:\\kaggle-road-accidents-analysis-and-prediction-master\\.virtenv\\lib\\site-packages\\sklearn\\preprocessing\\_encoders.py:422: DeprecationWarning: `np.int` is a deprecated alias for the builtin `int`. To silence this warning, use `int` by itself. Doing this will not modify any behavior and is safe. When replacing `np.int`, you may wish to use e.g. `np.int64` or `np.int32` to specify the precision. If you wish to review your current use, check the release note link for additional information.\n",
      "Deprecated in NumPy 1.20; for more details and guidance: https://numpy.org/devdocs/release/1.20.0-notes.html#deprecations\n",
      "  X = check_array(X, dtype=np.int)\n",
      "e:\\kaggle-road-accidents-analysis-and-prediction-master\\.virtenv\\lib\\site-packages\\sklearn\\preprocessing\\_encoders.py:505: DeprecationWarning: `np.int` is a deprecated alias for the builtin `int`. To silence this warning, use `int` by itself. Doing this will not modify any behavior and is safe. When replacing `np.int`, you may wish to use e.g. `np.int64` or `np.int32` to specify the precision. If you wish to review your current use, check the release note link for additional information.\n",
      "Deprecated in NumPy 1.20; for more details and guidance: https://numpy.org/devdocs/release/1.20.0-notes.html#deprecations\n",
      "  X = check_array(X, dtype=np.int)\n"
     ]
    },
    {
     "data": {
      "text/plain": [
       "0.8752671573962383"
      ]
     },
     "execution_count": 5,
     "metadata": {},
     "output_type": "execute_result"
    }
   ],
   "source": [
    "\n",
    "ohe.fit(data_matrix_x)\n",
    "data_matrix = ohe.transform(data_matrix_x).toarray()\n",
    "    \n",
    "model2 = LinearRegression(fit_intercept=False)\n",
    "X_train ,X_test ,y_train, y_test = train_test_split(data_matrix,data_matrix_y ,test_size = 0.2)\n",
    "model2.fit(X_train,y_train)\n",
    "model2.score(X_test,y_test)"
   ]
  },
  {
   "cell_type": "code",
   "execution_count": null,
   "id": "41510d7a",
   "metadata": {},
   "outputs": [],
   "source": []
  }
 ],
 "metadata": {
  "kernelspec": {
   "display_name": "Python 3 (ipykernel)",
   "language": "python",
   "name": "python3"
  },
  "language_info": {
   "codemirror_mode": {
    "name": "ipython",
    "version": 3
   },
   "file_extension": ".py",
   "mimetype": "text/x-python",
   "name": "python",
   "nbconvert_exporter": "python",
   "pygments_lexer": "ipython3",
   "version": "3.7.9"
  }
 },
 "nbformat": 4,
 "nbformat_minor": 5
}
