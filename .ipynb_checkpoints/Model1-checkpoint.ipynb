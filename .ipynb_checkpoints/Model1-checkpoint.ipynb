{
 "cells": [
  {
   "cell_type": "code",
   "execution_count": 1,
   "id": "72f9bda5",
   "metadata": {},
   "outputs": [
    {
     "name": "stderr",
     "output_type": "stream",
     "text": [
      "e:\\kaggle-road-accidents-analysis-and-prediction-master\\.virtenv\\lib\\site-packages\\sklearn\\externals\\joblib\\externals\\cloudpickle\\cloudpickle.py:47: DeprecationWarning: the imp module is deprecated in favour of importlib; see the module's documentation for alternative uses\n",
      "  import imp\n",
      "e:\\kaggle-road-accidents-analysis-and-prediction-master\\.virtenv\\lib\\site-packages\\sklearn\\linear_model\\least_angle.py:35: DeprecationWarning: `np.float` is a deprecated alias for the builtin `float`. To silence this warning, use `float` by itself. Doing this will not modify any behavior and is safe. If you specifically wanted the numpy scalar type, use `np.float64` here.\n",
      "Deprecated in NumPy 1.20; for more details and guidance: https://numpy.org/devdocs/release/1.20.0-notes.html#deprecations\n",
      "  eps=np.finfo(np.float).eps,\n",
      "e:\\kaggle-road-accidents-analysis-and-prediction-master\\.virtenv\\lib\\site-packages\\sklearn\\linear_model\\least_angle.py:597: DeprecationWarning: `np.float` is a deprecated alias for the builtin `float`. To silence this warning, use `float` by itself. Doing this will not modify any behavior and is safe. If you specifically wanted the numpy scalar type, use `np.float64` here.\n",
      "Deprecated in NumPy 1.20; for more details and guidance: https://numpy.org/devdocs/release/1.20.0-notes.html#deprecations\n",
      "  eps=np.finfo(np.float).eps, copy_X=True, fit_path=True,\n",
      "e:\\kaggle-road-accidents-analysis-and-prediction-master\\.virtenv\\lib\\site-packages\\sklearn\\linear_model\\least_angle.py:836: DeprecationWarning: `np.float` is a deprecated alias for the builtin `float`. To silence this warning, use `float` by itself. Doing this will not modify any behavior and is safe. If you specifically wanted the numpy scalar type, use `np.float64` here.\n",
      "Deprecated in NumPy 1.20; for more details and guidance: https://numpy.org/devdocs/release/1.20.0-notes.html#deprecations\n",
      "  eps=np.finfo(np.float).eps, copy_X=True, fit_path=True,\n",
      "e:\\kaggle-road-accidents-analysis-and-prediction-master\\.virtenv\\lib\\site-packages\\sklearn\\linear_model\\least_angle.py:862: DeprecationWarning: `np.float` is a deprecated alias for the builtin `float`. To silence this warning, use `float` by itself. Doing this will not modify any behavior and is safe. If you specifically wanted the numpy scalar type, use `np.float64` here.\n",
      "Deprecated in NumPy 1.20; for more details and guidance: https://numpy.org/devdocs/release/1.20.0-notes.html#deprecations\n",
      "  eps=np.finfo(np.float).eps, positive=False):\n",
      "e:\\kaggle-road-accidents-analysis-and-prediction-master\\.virtenv\\lib\\site-packages\\sklearn\\linear_model\\least_angle.py:1095: DeprecationWarning: `np.float` is a deprecated alias for the builtin `float`. To silence this warning, use `float` by itself. Doing this will not modify any behavior and is safe. If you specifically wanted the numpy scalar type, use `np.float64` here.\n",
      "Deprecated in NumPy 1.20; for more details and guidance: https://numpy.org/devdocs/release/1.20.0-notes.html#deprecations\n",
      "  max_n_alphas=1000, n_jobs=None, eps=np.finfo(np.float).eps,\n",
      "e:\\kaggle-road-accidents-analysis-and-prediction-master\\.virtenv\\lib\\site-packages\\sklearn\\linear_model\\least_angle.py:1340: DeprecationWarning: `np.float` is a deprecated alias for the builtin `float`. To silence this warning, use `float` by itself. Doing this will not modify any behavior and is safe. If you specifically wanted the numpy scalar type, use `np.float64` here.\n",
      "Deprecated in NumPy 1.20; for more details and guidance: https://numpy.org/devdocs/release/1.20.0-notes.html#deprecations\n",
      "  max_n_alphas=1000, n_jobs=None, eps=np.finfo(np.float).eps,\n",
      "e:\\kaggle-road-accidents-analysis-and-prediction-master\\.virtenv\\lib\\site-packages\\sklearn\\linear_model\\least_angle.py:1476: DeprecationWarning: `np.float` is a deprecated alias for the builtin `float`. To silence this warning, use `float` by itself. Doing this will not modify any behavior and is safe. If you specifically wanted the numpy scalar type, use `np.float64` here.\n",
      "Deprecated in NumPy 1.20; for more details and guidance: https://numpy.org/devdocs/release/1.20.0-notes.html#deprecations\n",
      "  eps=np.finfo(np.float).eps, copy_X=True, positive=False):\n",
      "e:\\kaggle-road-accidents-analysis-and-prediction-master\\.virtenv\\lib\\site-packages\\sklearn\\linear_model\\randomized_l1.py:152: DeprecationWarning: `np.float` is a deprecated alias for the builtin `float`. To silence this warning, use `float` by itself. Doing this will not modify any behavior and is safe. If you specifically wanted the numpy scalar type, use `np.float64` here.\n",
      "Deprecated in NumPy 1.20; for more details and guidance: https://numpy.org/devdocs/release/1.20.0-notes.html#deprecations\n",
      "  precompute=False, eps=np.finfo(np.float).eps,\n",
      "e:\\kaggle-road-accidents-analysis-and-prediction-master\\.virtenv\\lib\\site-packages\\sklearn\\linear_model\\randomized_l1.py:320: DeprecationWarning: `np.float` is a deprecated alias for the builtin `float`. To silence this warning, use `float` by itself. Doing this will not modify any behavior and is safe. If you specifically wanted the numpy scalar type, use `np.float64` here.\n",
      "Deprecated in NumPy 1.20; for more details and guidance: https://numpy.org/devdocs/release/1.20.0-notes.html#deprecations\n",
      "  eps=np.finfo(np.float).eps, random_state=None,\n",
      "e:\\kaggle-road-accidents-analysis-and-prediction-master\\.virtenv\\lib\\site-packages\\sklearn\\linear_model\\randomized_l1.py:580: DeprecationWarning: `np.float` is a deprecated alias for the builtin `float`. To silence this warning, use `float` by itself. Doing this will not modify any behavior and is safe. If you specifically wanted the numpy scalar type, use `np.float64` here.\n",
      "Deprecated in NumPy 1.20; for more details and guidance: https://numpy.org/devdocs/release/1.20.0-notes.html#deprecations\n",
      "  eps=4 * np.finfo(np.float).eps, n_jobs=None,\n"
     ]
    }
   ],
   "source": [
    "import pandas as pd\n",
    "from matplotlib import pyplot as plt\n",
    "%matplotlib inline\n",
    "import numpy as np\n",
    "from sklearn.linear_model import LinearRegression\n",
    "\n",
    "data = pd.read_csv('road-accidents-in-india/only_road_accidents_data3.csv')"
   ]
  },
  {
   "cell_type": "code",
   "execution_count": 2,
   "id": "bbb6bf49",
   "metadata": {},
   "outputs": [
    {
     "name": "stderr",
     "output_type": "stream",
     "text": [
      "e:\\kaggle-road-accidents-analysis-and-prediction-master\\.virtenv\\lib\\site-packages\\ipykernel_launcher.py:2: FutureWarning: In a future version of pandas all arguments of DataFrame.drop except for the argument 'labels' will be keyword-only\n",
      "  \n"
     ]
    }
   ],
   "source": [
    "i=0\n",
    "data = data.drop('Total',1)\n",
    "new_data = pd.DataFrame(columns = ['STATE/UT','YEAR','TIME','ACCIDENTS'],index = np.arange(10000))\n",
    "for states in data['STATE/UT'].unique():\n",
    "    for year in data['YEAR'].unique():\n",
    "        for time in data.columns[2:]:\n",
    "            new_data.loc[i,'STATE/UT']= states\n",
    "            new_data.loc[i,'YEAR']= year\n",
    "            new_data.loc[i,'TIME']= time\n",
    "            i=i+1 "
   ]
  },
  {
   "cell_type": "code",
   "execution_count": 3,
   "id": "fb1f37fc",
   "metadata": {},
   "outputs": [
    {
     "data": {
      "text/html": [
       "<div>\n",
       "<style scoped>\n",
       "    .dataframe tbody tr th:only-of-type {\n",
       "        vertical-align: middle;\n",
       "    }\n",
       "\n",
       "    .dataframe tbody tr th {\n",
       "        vertical-align: top;\n",
       "    }\n",
       "\n",
       "    .dataframe thead th {\n",
       "        text-align: right;\n",
       "    }\n",
       "</style>\n",
       "<table border=\"1\" class=\"dataframe\">\n",
       "  <thead>\n",
       "    <tr style=\"text-align: right;\">\n",
       "      <th></th>\n",
       "      <th>STATE/UT</th>\n",
       "      <th>YEAR</th>\n",
       "      <th>TIME</th>\n",
       "      <th>ACCIDENTS</th>\n",
       "    </tr>\n",
       "  </thead>\n",
       "  <tbody>\n",
       "    <tr>\n",
       "      <th>0</th>\n",
       "      <td>A &amp; N Islands</td>\n",
       "      <td>2001</td>\n",
       "      <td>0-3 hrs. (Night)</td>\n",
       "      <td>2</td>\n",
       "    </tr>\n",
       "    <tr>\n",
       "      <th>1</th>\n",
       "      <td>A &amp; N Islands</td>\n",
       "      <td>2001</td>\n",
       "      <td>3-6 hrs. (Night)</td>\n",
       "      <td>6</td>\n",
       "    </tr>\n",
       "    <tr>\n",
       "      <th>2</th>\n",
       "      <td>A &amp; N Islands</td>\n",
       "      <td>2001</td>\n",
       "      <td>6-9 hrs (Day)</td>\n",
       "      <td>29</td>\n",
       "    </tr>\n",
       "    <tr>\n",
       "      <th>3</th>\n",
       "      <td>A &amp; N Islands</td>\n",
       "      <td>2001</td>\n",
       "      <td>9-12 hrs (Day)</td>\n",
       "      <td>40</td>\n",
       "    </tr>\n",
       "    <tr>\n",
       "      <th>4</th>\n",
       "      <td>A &amp; N Islands</td>\n",
       "      <td>2001</td>\n",
       "      <td>12-15 hrs (Day)</td>\n",
       "      <td>39</td>\n",
       "    </tr>\n",
       "  </tbody>\n",
       "</table>\n",
       "</div>"
      ],
      "text/plain": [
       "        STATE/UT  YEAR              TIME ACCIDENTS\n",
       "0  A & N Islands  2001  0-3 hrs. (Night)         2\n",
       "1  A & N Islands  2001  3-6 hrs. (Night)         6\n",
       "2  A & N Islands  2001     6-9 hrs (Day)        29\n",
       "3  A & N Islands  2001    9-12 hrs (Day)        40\n",
       "4  A & N Islands  2001   12-15 hrs (Day)        39"
      ]
     },
     "execution_count": 3,
     "metadata": {},
     "output_type": "execute_result"
    }
   ],
   "source": [
    "j=0\n",
    "for i in data.index:\n",
    "    for time in data.columns[2:]:\n",
    "        new_data.loc[j,'ACCIDENTS'] = data.loc[i,time]\n",
    "        j=j+1\n",
    "    \n",
    "\n",
    "new_data.head()\n",
    "new_data = new_data.dropna(how='all',axis=0)\n",
    "new_data.head()"
   ]
  },
  {
   "cell_type": "code",
   "execution_count": 4,
   "id": "7921419c",
   "metadata": {},
   "outputs": [
    {
     "name": "stdout",
     "output_type": "stream",
     "text": [
      "[('0-3 hrs. (Night)', 390197), ('3-6 hrs. (Night)', 474926), ('6-9 hrs (Day)', 671864), ('9-12 hrs (Day)', 859444), ('12-15 hrs (Day)', 824089), ('15-18 hrs (Day)', 906639), ('18-21 hrs (Night)', 873630), ('21-24 hrs (Night)', 602117)]\n",
      "Timespan of maximum accidents:('15-18 hrs (Day)', 906639)\n",
      "Timespan of minimum accidents:('0-3 hrs. (Night)', 390197)\n"
     ]
    }
   ],
   "source": [
    "#new_data.to_csv('time_prepared_data.csv')\n",
    "\n",
    "\n",
    "\n",
    "\n",
    "\n",
    "cnt =0\n",
    "for states in new_data['STATE/UT'].unique():\n",
    "    for i in new_data.index :\n",
    "        if new_data.loc[i,'STATE/UT'] == states:\n",
    "            cnt=cnt+1\n",
    "        \n",
    "    #print(states +' has '+str(cnt)+' data items')\n",
    "    cnt=0\n",
    "data = pd.read_csv('road-accidents-in-india/only_road_accidents_data3.csv')\n",
    "\n",
    "#to find the timespan of max and min accidents\n",
    "c= []\n",
    "cnt = 0\n",
    "for time in data.columns[2:10]:\n",
    "    for i in data.index:\n",
    "        cnt  = cnt + data.loc[i,time]\n",
    "    time_acc = (time,cnt)\n",
    "    cnt=0\n",
    "    c.append(time_acc)\n",
    "print(c) \n",
    "x = c[0]\n",
    "y = c[0]\n",
    "for i in c:\n",
    "    if i[1]>x[1]:\n",
    "        x = i\n",
    "    if i[1] <y[1]:\n",
    "        y=i\n",
    "        \n",
    "print(\"Timespan of maximum accidents:\"+ str(x))\n",
    "print(\"Timespan of minimum accidents:\" + str(y))"
   ]
  },
  {
   "cell_type": "code",
   "execution_count": 5,
   "id": "2990a58c",
   "metadata": {},
   "outputs": [
    {
     "name": "stdout",
     "output_type": "stream",
     "text": [
      "State with maximum accidents:('Tamil Nadu', 852073)\n",
      "State with minimum accidents:('Lakshadweep', 14)\n",
      "[(2001, 323720), (2002, 335707), (2003, 336468), (2004, 361343), (2005, 390378), (2006, 394432), (2007, 418657), (2008, 415855), (2009, 421628), (2010, 430654), (2011, 440123), (2012, 440042), (2013, 443001), (2014, 450898)]\n",
      "Year with maximum accidents:(2014, 450898)\n",
      "Year with minimum accidents:(2001, 323720)\n"
     ]
    }
   ],
   "source": [
    "d= []\n",
    "cnt1 = 0\n",
    "for state in data['STATE/UT'].unique():\n",
    "    for i in data.index:\n",
    "        if data.loc[i,'STATE/UT'] == state:\n",
    "            cnt1 = cnt1 + data.loc[i,'Total'] \n",
    "    state_acc = (state,cnt1)\n",
    "    cnt1=0\n",
    "    d.append(state_acc)\n",
    "#print(c) \n",
    "x = d[0]\n",
    "y = d[0]\n",
    "for i in d:\n",
    "    if i[1]>x[1]:\n",
    "        x = i\n",
    "    if i[1] <y[1]:\n",
    "        y=i\n",
    "print(\"State with maximum accidents:\"+ str(x))\n",
    "print(\"State with minimum accidents:\" + str(y))       \n",
    "        \n",
    "\n",
    "#to find year with max and min accidents occured\n",
    "e= []\n",
    "cnt2 = 0\n",
    "for year in data['YEAR'].unique():\n",
    "    for i in data.index:\n",
    "        if data.loc[i,'YEAR'] == year:\n",
    "            cnt2 = cnt2 + data.loc[i,'Total'] \n",
    "    year_acc = (year,cnt2)\n",
    "    cnt2=0\n",
    "    e.append(year_acc)\n",
    "#print(c) \n",
    "x = e[0]\n",
    "y = e[0]\n",
    "for i in e:\n",
    "    if i[1]>x[1]:\n",
    "        x = i\n",
    "    if i[1] <y[1]:\n",
    "        y=i\n",
    "print(e)\n",
    "print(\"Year with maximum accidents:\"+ str(x))\n",
    "print(\"Year with minimum accidents:\" + str(y)) "
   ]
  },
  {
   "cell_type": "code",
   "execution_count": 6,
   "id": "ec048f44",
   "metadata": {},
   "outputs": [
    {
     "data": {
      "text/plain": [
       "<matplotlib.collections.PathCollection at 0x228d22e3148>"
      ]
     },
     "execution_count": 6,
     "metadata": {},
     "output_type": "execute_result"
    },
    {
     "data": {
      "image/png": "[encoded data removed]",
      "text/plain": [
       "<Figure size 432x288 with 1 Axes>"
      ]
     },
     "metadata": {
      "needs_background": "light"
     },
     "output_type": "display_data"
    }
   ],
   "source": [
    "plt.scatter(np.array([t[0] for t in e]),np.array([y[1] for y in e]))"
   ]
  },
  {
   "cell_type": "code",
   "execution_count": 7,
   "id": "ed0e2fe2",
   "metadata": {},
   "outputs": [
    {
     "data": {
      "image/png": "[encoded data removed]",
      "text/plain": [
       "<Figure size 432x288 with 1 Axes>"
      ]
     },
     "metadata": {
      "needs_background": "light"
     },
     "output_type": "display_data"
    }
   ],
   "source": [
    "model = LinearRegression()\n",
    "X_data = np.array([t[0] for t in e])\n",
    "Y_data = np.array([y[1] for y in e])\n",
    "\n",
    "model.fit(X_data.reshape(len(X_data),1),Y_data.reshape(len(Y_data),1))\n",
    "\n",
    "\n",
    "plt.scatter(X_data,Y_data,color='black')\n",
    "#plt.plot(model.predict(x.reshape(len(x),1)))\n",
    "plt.plot(X_data,model.predict(X_data.reshape(len(X_data),1)),color='blue')\n",
    "plt.xlabel('Year')\n",
    "plt.ylabel('Accidents')\n",
    "plt.savefig(\"model1_line.png\")"
   ]
  },
  {
   "cell_type": "code",
   "execution_count": 8,
   "id": "adbfe6e1",
   "metadata": {},
   "outputs": [
    {
     "data": {
      "text/plain": [
       "0.9192645177422761"
      ]
     },
     "execution_count": 8,
     "metadata": {},
     "output_type": "execute_result"
    }
   ],
   "source": [
    "model.score(X_data.reshape(len(X_data),1),Y_data.reshape(len(Y_data),1))"
   ]
  },
  {
   "cell_type": "code",
   "execution_count": 9,
   "id": "b89b01b6",
   "metadata": {},
   "outputs": [
    {
     "data": {
      "text/plain": [
       "array([[475987.9010989]])"
      ]
     },
     "execution_count": 9,
     "metadata": {},
     "output_type": "execute_result"
    }
   ],
   "source": [
    "model.predict([[2015]])"
   ]
  },
  {
   "cell_type": "code",
   "execution_count": null,
   "id": "79914bbd",
   "metadata": {},
   "outputs": [],
   "source": []
  }
 ],
 "metadata": {
  "kernelspec": {
   "display_name": "Python 3 (ipykernel)",
   "language": "python",
   "name": "python3"
  },
  "language_info": {
   "codemirror_mode": {
    "name": "ipython",
    "version": 3
   },
   "file_extension": ".py",
   "mimetype": "text/x-python",
   "name": "python",
   "nbconvert_exporter": "python",
   "pygments_lexer": "ipython3",
   "version": "3.7.9"
  }
 },
 "nbformat": 4,
 "nbformat_minor": 5
}
