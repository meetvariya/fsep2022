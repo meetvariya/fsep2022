{
 "cells": [
  {
   "cell_type": "code",
   "execution_count": 2,
   "id": "51b2a567",
   "metadata": {},
   "outputs": [
    {
     "ename": "ModuleNotFoundError",
     "evalue": "No module named 'sklearn'",
     "output_type": "error",
     "traceback": [
      "\u001b[1;31m---------------------------------------------------------------------------\u001b[0m",
      "\u001b[1;31mModuleNotFoundError\u001b[0m                       Traceback (most recent call last)",
      "Input \u001b[1;32mIn [2]\u001b[0m, in \u001b[0;36m<module>\u001b[1;34m\u001b[0m\n\u001b[0;32m      1\u001b[0m \u001b[38;5;28;01mimport\u001b[39;00m \u001b[38;5;21;01mpandas\u001b[39;00m \u001b[38;5;28;01mas\u001b[39;00m \u001b[38;5;21;01mpd\u001b[39;00m\n\u001b[0;32m      2\u001b[0m \u001b[38;5;28;01mimport\u001b[39;00m \u001b[38;5;21;01mnumpy\u001b[39;00m \u001b[38;5;28;01mas\u001b[39;00m \u001b[38;5;21;01mnp\u001b[39;00m\n\u001b[1;32m----> 3\u001b[0m \u001b[38;5;28;01mfrom\u001b[39;00m \u001b[38;5;21;01msklearn\u001b[39;00m\u001b[38;5;21;01m.\u001b[39;00m\u001b[38;5;21;01mlinear_model\u001b[39;00m \u001b[38;5;28;01mimport\u001b[39;00m LinearRegression\n\u001b[0;32m      4\u001b[0m \u001b[38;5;28;01mfrom\u001b[39;00m \u001b[38;5;21;01msklearn\u001b[39;00m\u001b[38;5;21;01m.\u001b[39;00m\u001b[38;5;21;01mmodel_selection\u001b[39;00m \u001b[38;5;28;01mimport\u001b[39;00m train_test_split\n\u001b[0;32m      5\u001b[0m \u001b[38;5;28;01mfrom\u001b[39;00m \u001b[38;5;21;01msklearn\u001b[39;00m\u001b[38;5;21;01m.\u001b[39;00m\u001b[38;5;21;01mpreprocessing\u001b[39;00m \u001b[38;5;28;01mimport\u001b[39;00m LabelEncoder,OneHotEncoder\n",
      "\u001b[1;31mModuleNotFoundError\u001b[0m: No module named 'sklearn'"
     ]
    }
   ],
   "source": [
    "import pandas as pd\n",
    "import numpy as np\n",
    "from sklearn.linear_model import LinearRegression\n",
    "from sklearn.model_selection import train_test_split\n",
    "from sklearn.preprocessing import LabelEncoder,OneHotEncoder"
   ]
  },
  {
   "cell_type": "code",
   "execution_count": null,
   "id": "db182eca",
   "metadata": {},
   "outputs": [],
   "source": [
    "data_month = pd.read_csv('only_month_data.csv')\n",
    "data_month.head()\n",
    "\n",
    "count = 0\n",
    "month_acc =[]\n",
    "for month in data_month.columns[2:-1]:\n",
    "    for i in data_month.index:\n",
    "        count = count + data_month.loc[i,month]\n",
    "    acc = (month,count)\n",
    "    month_acc.append(acc)\n",
    "    count = 0\n",
    "month_acc \n",
    "data_month.head()"
   ]
  },
  {
   "cell_type": "code",
   "execution_count": null,
   "id": "2479ffc5",
   "metadata": {},
   "outputs": [],
   "source": [
    "i=0\n",
    "\n",
    "new_data_month = pd.DataFrame(columns = ['STATE/UT','YEAR','MONTH','ACCIDENTS'],index = np.arange(10000))\n",
    "for states in data_month['STATE/UT'].unique():\n",
    "    for year in data_month['YEAR'].unique():\n",
    "        for month in data_month.columns[2:-1]:\n",
    "            new_data_month.loc[i,'STATE/UT']= states\n",
    "            new_data_month.loc[i,'YEAR']= year\n",
    "            new_data_month.loc[i,'MONTH']= month\n",
    "            i=i+1\n",
    "new_data_month.head()"
   ]
  },
  {
   "cell_type": "code",
   "execution_count": null,
   "id": "e2f684f2",
   "metadata": {},
   "outputs": [],
   "source": [
    "j=0\n",
    "for i in data_month.index:\n",
    "    for month in data_month.columns[2:-1]:\n",
    "        new_data_month.loc[j,'ACCIDENTS'] = data_month.loc[i,month]\n",
    "        j=j+1\n",
    "new_data_month=new_data_month.dropna(how = 'any',axis=0)\n",
    "#new_data_month.to_csv('month_prepared_data.csv')\n",
    "new_data_month.head()"
   ]
  },
  {
   "cell_type": "code",
   "execution_count": null,
   "id": "ed1ee854",
   "metadata": {},
   "outputs": [],
   "source": [
    "data = pd.read_csv('road-accidents-in-india/only_road_accidents_data3.csv')"
   ]
  },
  {
   "cell_type": "code",
   "execution_count": null,
   "id": "0d0d39c3",
   "metadata": {},
   "outputs": [],
   "source": [
    "i=0\n",
    "data = data.drop('Total',1)\n",
    "new_data = pd.DataFrame(columns = ['STATE/UT','YEAR','TIME','ACCIDENTS'],index = np.arange(10000))\n",
    "for states in data['STATE/UT'].unique():\n",
    "    for year in data['YEAR'].unique():\n",
    "        for time in data.columns[2:]:\n",
    "            new_data.loc[i,'STATE/UT']= states\n",
    "            new_data.loc[i,'YEAR']= year\n",
    "            new_data.loc[i,'TIME']= time\n",
    "            i=i+1   "
   ]
  },
  {
   "cell_type": "code",
   "execution_count": null,
   "id": "43989f4c",
   "metadata": {},
   "outputs": [],
   "source": [
    "new_data.head()"
   ]
  },
  {
   "cell_type": "code",
   "execution_count": null,
   "id": "f9f8b234",
   "metadata": {},
   "outputs": [],
   "source": [
    "j=0\n",
    "for i in data.index:\n",
    "    for time in data.columns[2:]:\n",
    "        new_data.loc[j,'ACCIDENTS'] = data.loc[i,time]\n",
    "        j=j+1\n",
    "    \n",
    "\n",
    "new_data.head()\n",
    "new_data = new_data.dropna(how='all',axis=0)\n",
    "new_data.head()"
   ]
  },
  {
   "cell_type": "code",
   "execution_count": null,
   "id": "4d244b18",
   "metadata": {},
   "outputs": [],
   "source": [
    "#new_data.to_csv('time_prepared_data.csv')"
   ]
  }
 ],
 "metadata": {
  "kernelspec": {
   "display_name": "Python 3 (ipykernel)",
   "language": "python",
   "name": "python3"
  },
  "language_info": {
   "codemirror_mode": {
    "name": "ipython",
    "version": 3
   },
   "file_extension": ".py",
   "mimetype": "text/x-python",
   "name": "python",
   "nbconvert_exporter": "python",
   "pygments_lexer": "ipython3",
   "version": "3.9.2"
  }
 },
 "nbformat": 4,
 "nbformat_minor": 5
}
